{
  "nbformat": 4,
  "nbformat_minor": 0,
  "metadata": {
    "colab": {
      "provenance": []
    },
    "kernelspec": {
      "name": "python3",
      "display_name": "Python 3"
    },
    "language_info": {
      "name": "python"
    }
  },
  "cells": [
    {
      "cell_type": "markdown",
      "source": [
        "##Data observation and analysis"
      ],
      "metadata": {
        "id": "L_hJUGPFn53y"
      }
    },
    {
      "cell_type": "code",
      "source": [
        "import pandas as pd\n",
        "\n",
        "df = pd.read_csv(\"/content/dataset_challenge1_ai.csv\")\n",
        "\n",
        "print(df.shape)\n",
        "print(df.columns)\n",
        "print(df.head())\n",
        "print(df.tail())\n",
        "print(df.info())\n",
        "print(df.describe())\n"
      ],
      "metadata": {
        "id": "PCyuYNpHn2aZ"
      },
      "execution_count": null,
      "outputs": []
    },
    {
      "cell_type": "markdown",
      "source": [
        "##Descriptive statistical indicators"
      ],
      "metadata": {
        "id": "W23ExhYooYUr"
      }
    },
    {
      "cell_type": "code",
      "source": [
        "# For study hours\n",
        "print(\"STUDY HOURS PER WEEK:\")\n",
        "print(\"MEAN:\", df[\"study_hours_per_week\"].mean())\n",
        "print(\"MEDIAN:\", df[\"study_hours_per_week\"].median())\n",
        "print(\"MAX:\", df[\"study_hours_per_week\"].max())\n",
        "print(\"Q1:\", df[\"study_hours_per_week\"].quantile(0.25))\n",
        "print(\"---\")\n",
        "\n",
        "# For sleep hours\n",
        "print(\"SLEEP HOURS PER DAY:\")\n",
        "print(\"MEAN:\", df[\"sleep_hours_per_day\"].mean())\n",
        "print(\"MEDIAN:\", df[\"sleep_hours_per_day\"].median())\n",
        "print(\"MAX:\", df[\"sleep_hours_per_day\"].max())\n",
        "print(\"Q1:\", df[\"sleep_hours_per_day\"].quantile(0.25))\n",
        "print(\"---\")\n",
        "\n",
        "# For attendance percentage\n",
        "print(\"ATTENDANCE PERCENTAGE:\")\n",
        "print(\"MEAN:\", df[\"attendance_percentage\"].mean())\n",
        "print(\"MEDIAN:\", df[\"attendance_percentage\"].median())\n",
        "print(\"MAX:\", df[\"attendance_percentage\"].max())\n",
        "print(\"Q1:\", df[\"attendance_percentage\"].quantile(0.25))\n",
        "print(\"---\")\n",
        "\n",
        "# For assignments\n",
        "print(\"ASSIGNMENTS COMPLETED:\")\n",
        "print(\"MEAN:\", df[\"assignments_completed\"].mean())\n",
        "print(\"MEDIAN:\", df[\"assignments_completed\"].median())\n",
        "print(\"MAX:\", df[\"assignments_completed\"].max())\n",
        "print(\"Q1:\", df[\"assignments_completed\"].quantile(0.25))\n",
        "print(\"---\")\n",
        "\n",
        "# For final grade\n",
        "print(\"FINAL GRADE:\")\n",
        "print(\"MEAN:\", df[\"final_grade\"].mean())\n",
        "print(\"MEDIAN:\", df[\"final_grade\"].median())\n",
        "print(\"MAX:\", df[\"final_grade\"].max())\n",
        "print(\"Q1:\", df[\"final_grade\"].quantile(0.25))\n"
      ],
      "metadata": {
        "id": "hXb_X7KWoZ_G"
      },
      "execution_count": null,
      "outputs": []
    },
    {
      "cell_type": "markdown",
      "source": [
        "##Replacing NULL and invalid data"
      ],
      "metadata": {
        "id": "ZHrQEjHnoi42"
      }
    },
    {
      "cell_type": "markdown",
      "source": [
        "Our Null data only relates to the parents' education and we could have left out all the replacement values, but given that new data may have blanks in these values, these replacements were made to avoid errors in the future."
      ],
      "metadata": {
        "id": "WtYue8EGoko6"
      }
    },
    {
      "cell_type": "code",
      "source": [
        "# Replace missing numeric values with median\n",
        "df[\"study_hours_per_week\"].fillna(df[\"study_hours_per_week\"].median(), inplace=True)\n",
        "df[\"sleep_hours_per_day\"].fillna(df[\"sleep_hours_per_day\"].median(), inplace=True)\n",
        "df[\"attendance_percentage\"].fillna(df[\"attendance_percentage\"].median(), inplace=True)\n",
        "df[\"assignments_completed\"].fillna(df[\"assignments_completed\"].median(), inplace=True)\n",
        "df[\"final_grade\"].fillna(df[\"final_grade\"].median(), inplace=True)\n",
        "\n",
        "# Fill missing categorical values with \"Unknown\"\n",
        "df[\"parental_education\"].fillna(\"Unknown\", inplace=True)\n",
        "df[\"participation_level\"].fillna(\"Unknown\", inplace=True)\n",
        "\n",
        "# Fill missing yes/no columns with most frequent value\n",
        "most_common_internet = df[\"internet_access\"].value_counts().index[0]\n",
        "df[\"internet_access\"].fillna(most_common_internet, inplace=True)\n",
        "most_common_extra = df[\"extracurricular\"].value_counts().index[0]\n",
        "df[\"extracurricular\"].fillna(most_common_extra, inplace=True)\n",
        "most_common_job = df[\"part_time_job\"].value_counts().index[0]\n",
        "df[\"part_time_job\"].fillna(most_common_job, inplace=True)\n",
        "\n",
        "# Fix unreasonable values\n",
        "df.loc[df[\"sleep_hours_per_day\"] < 2, \"sleep_hours_per_day\"] = 2\n",
        "df.loc[df[\"study_hours_per_week\"] < 1, \"study_hours_per_week\"] = 1\n",
        "df.loc[df[\"attendance_percentage\"] < 0.1, \"attendance_percentage\"] = 0.1\n",
        "\n",
        "# Final check\n",
        "print(\"Data cleaning completed!\")\n",
        "print(\"Number of rows/columns:\", df.shape)\n",
        "print(\"Missing values:\")\n",
        "print(df.isnull().sum())\n"
      ],
      "metadata": {
        "id": "OozQ8Z_Koq2U"
      },
      "execution_count": null,
      "outputs": []
    },
    {
      "cell_type": "markdown",
      "source": [
        "##Pie chart for people with jobs"
      ],
      "metadata": {
        "id": "tOIblq3Fo1LM"
      }
    },
    {
      "cell_type": "code",
      "source": [
        "import matplotlib.pyplot as plt\n",
        "\n",
        "# Pie chart for participation_level\n",
        "counts = df[\"participation_level\"].value_counts()\n",
        "values = counts.values\n",
        "labels = counts.index\n",
        "\n",
        "colors = [\"lightpink\", \"lightblue\", \"lightgreen\"]\n",
        "\n",
        "plt.figure(figsize=(8, 6))\n",
        "plt.pie(values, labels=labels, colors=colors, autopct=\"%1.1f%%\")\n",
        "plt.title(\"Student Participation Level\")\n",
        "plt.show()\n",
        "\n",
        "# Pie chart for part_time_job\n",
        "counts_job = df[\"part_time_job\"].value_counts()\n",
        "values_job = counts_job.values\n",
        "labels_job = counts_job.index\n",
        "\n",
        "colors_job = [\"lightcoral\", \"lightgreen\"]\n",
        "\n",
        "plt.figure(figsize=(8, 6))\n",
        "plt.pie(values_job, labels=labels_job, colors=colors_job, autopct=\"%1.1f%%\")\n",
        "plt.title(\"Having a Part-time Job\")\n",
        "plt.show()\n"
      ],
      "metadata": {
        "id": "kWDDMBbEo5xw"
      },
      "execution_count": null,
      "outputs": []
    },
    {
      "cell_type": "markdown",
      "source": [
        "##Histogram and boxplot for the three main variables"
      ],
      "metadata": {
        "id": "RZqzQBHYpCI3"
      }
    },
    {
      "cell_type": "code",
      "source": [
        "# Histograms and Box Plots\n",
        "fig, axes = plt.subplots(2, 3, figsize=(15, 10))\n",
        "\n",
        "# Histograms\n",
        "axes[0,0].hist(df['study_hours_per_week'], bins=20, color='lightblue', edgecolor='black')\n",
        "axes[0,0].set_title('Histogram - Study Hours')\n",
        "axes[0,0].set_xlabel('Hours')\n",
        "axes[0,0].set_ylabel('Count')\n",
        "\n",
        "axes[0,1].hist(df['sleep_hours_per_day'], bins=15, color='lightgreen', edgecolor='black')\n",
        "axes[0,1].set_title('Histogram - Sleep Hours')\n",
        "axes[0,1].set_xlabel('Hours')\n",
        "\n",
        "axes[0,2].hist(df['final_grade'], bins=20, color='lightcoral', edgecolor='black')\n",
        "axes[0,2].set_title('Histogram - Final Grade')\n",
        "axes[0,2].set_xlabel('Grade')\n",
        "\n",
        "# Box Plots\n",
        "axes[1,0].boxplot(df['study_hours_per_week'])\n",
        "axes[1,0].set_title('Box Plot - Study Hours')\n",
        "\n",
        "axes[1,1].boxplot(df['sleep_hours_per_day'])\n",
        "axes[1,1].set_title('Box Plot - Sleep Hours')\n",
        "\n",
        "axes[1,2].boxplot(df['final_grade'])\n",
        "axes[1,2].set_title('Box Plot - Final Grade')\n",
        "\n",
        "plt.tight_layout()\n",
        "plt.show()\n"
      ],
      "metadata": {
        "id": "SOEANas5pE0a"
      },
      "execution_count": null,
      "outputs": []
    },
    {
      "cell_type": "code",
      "source": [
        "## Correlation chart"
      ],
      "metadata": {
        "id": "n5hlUDm9pKwc"
      },
      "execution_count": null,
      "outputs": []
    },
    {
      "cell_type": "markdown",
      "source": [
        "Here we find that students who studied more hours per week and completed more assignments received higher final grades."
      ],
      "metadata": {
        "id": "39imS3--pOKI"
      }
    },
    {
      "cell_type": "code",
      "source": [
        "import seaborn as sns\n",
        "import matplotlib.pyplot as plt\n",
        "\n",
        "# Calculate correlation matrix\n",
        "numeric_columns = ['study_hours_per_week', 'sleep_hours_per_day',\n",
        "                  'attendance_percentage', 'assignments_completed',\n",
        "                  'final_grade']\n",
        "\n",
        "correlation_matrix = df[numeric_columns].corr()\n",
        "\n",
        "# Heatmap\n",
        "plt.figure(figsize=(8, 6))\n",
        "sns.heatmap(correlation_matrix, annot=True, cmap='coolwarm', fmt='.2f', center=0)\n",
        "plt.title('Correlation Matrix')\n",
        "plt.show()\n",
        "\n",
        "# Identify features most correlated with final_grade\n",
        "print(\"Correlation of all features with Final Grade:\")\n",
        "correlation_with_grade = correlation_matrix['final_grade'].drop('final_grade').sort_values(ascending=False)\n",
        "\n",
        "for feature, corr in correlation_with_grade.items():\n",
        "    print(f\"{feature}: {corr:.3f}\")\n",
        "\n",
        "# Top 2 features with strongest correlation\n",
        "print(\"\\nTop 2 Features Most Correlated with Final Grade:\")\n",
        "top_2_features = correlation_with_grade.head(2)\n",
        "for feature, corr in top_2_features.items():\n",
        "    print(f\"{feature}: {corr:.3f}\")\n"
      ],
      "metadata": {
        "id": "YmjyixMFpMcQ"
      },
      "execution_count": null,
      "outputs": []
    },
    {
      "cell_type": "markdown",
      "source": [
        "##Discriminant histogram based on performance"
      ],
      "metadata": {
        "id": "bdVnaO3KpYcv"
      }
    },
    {
      "cell_type": "code",
      "source": [
        "import matplotlib.pyplot as plt\n",
        "\n",
        "# Average grade\n",
        "avg_grade = df[\"final_grade\"].mean()\n",
        "print(f\"🌡️ Average final grade: {avg_grade:.2f}\")\n",
        "\n",
        "# Use mean ± 1 std for thresholds\n",
        "std_grade = df[\"final_grade\"].std()\n",
        "upper_threshold = avg_grade + std_grade/2\n",
        "lower_threshold = avg_grade - std_grade/2\n",
        "\n",
        "print(f\"📊 Upper threshold: {upper_threshold:.2f}\")\n",
        "print(f\"📊 Lower threshold: {lower_threshold:.2f}\")\n",
        "\n",
        "# Classification with mean\n",
        "df[\"performance\"] = [\"successful\" if grade >= avg_grade else \"less_successful\" for grade in df[\"final_grade\"]]\n",
        "\n",
        "print(f\"✅ Selected threshold: {avg_grade:.2f}\")\n",
        "\n",
        "# Simple histograms\n",
        "plt.figure(figsize=(15, 12))\n",
        "\n",
        "# 1. Study hours\n",
        "plt.subplot(2, 2, 1)\n",
        "success_study = df[df[\"performance\"] == \"successful\"][\"study_hours_per_week\"]\n",
        "less_study = df[df[\"performance\"] == \"less_successful\"][\"study_hours_per_week\"]\n",
        "plt.hist(success_study, alpha=0.7, label=\"Successful\", color=\"green\", bins=10)\n",
        "plt.hist(less_study, alpha=0.7, label=\"Less Successful\", color=\"red\", bins=10)\n",
        "plt.xlabel(\"Study Hours\")\n",
        "plt.ylabel(\"Count\")\n",
        "plt.legend()\n",
        "plt.title(\"Study Hours\")\n",
        "\n",
        "# 2. Sleep hours\n",
        "plt.subplot(2, 2, 2)\n",
        "success_sleep = df[df[\"performance\"] == \"successful\"][\"sleep_hours_per_day\"]\n",
        "less_sleep = df[df[\"performance\"] == \"less_successful\"][\"sleep_hours_per_day\"]\n",
        "plt.hist(success_sleep, alpha=0.7, label=\"Successful\", color=\"green\", bins=10)\n",
        "plt.hist(less_sleep, alpha=0.7, label=\"Less Successful\", color=\"red\", bins=10)\n",
        "plt.xlabel(\"Sleep Hours\")\n",
        "plt.ylabel(\"Count\")\n",
        "plt.legend()\n",
        "plt.title(\"Sleep Hours\")\n",
        "\n",
        "# 3. Attendance\n",
        "plt.subplot(2, 2, 3)\n",
        "success_attendance = df[df[\"performance\"] == \"successful\"][\"attendance_percentage\"]\n",
        "less_attendance = df[df[\"performance\"] == \"less_successful\"][\"attendance_percentage\"]\n",
        "plt.hist(success_attendance, alpha=0.7, label=\"Successful\", color=\"green\", bins=10)\n",
        "plt.hist(less_attendance, alpha=0.7, label=\"Less Successful\", color=\"red\", bins=10)\n",
        "plt.xlabel(\"Attendance %\")\n",
        "plt.ylabel(\"Count\")\n",
        "plt.legend()\n",
        "plt.title(\"Class Attendance\")\n",
        "\n",
        "# 4. Assignments\n",
        "plt.subplot(2, 2, 4)\n",
        "success_assign = df[df[\"performance\"] == \"successful\"][\"assignments_completed\"]\n",
        "less_assign = df[df[\"performance\"] == \"less_successful\"][\"assignments_completed\"]\n",
        "plt.hist(success_assign, alpha=0.7, label=\"Successful\", color=\"green\", bins=10)\n",
        "plt.hist(less_assign, alpha=0.7, label=\"Less Successful\", color=\"red\", bins=10)\n",
        "plt.xlabel(\"Assignments Completed\")\n",
        "plt.ylabel(\"Count\")\n",
        "plt.legend()\n",
        "plt.title(\"Assignments Completed\")\n",
        "\n",
        "plt.tight_layout()\n",
        "plt.show()\n",
        "\n",
        "# Final counts\n",
        "success_count = len(df[df[\"performance\"] == \"successful\"])\n",
        "less_count = len(df[df[\"performance\"] == \"less_successful\"])\n",
        "print(f\"🎯 Successful students: {success_count}\")\n",
        "print(f\"🎯 Less successful students: {less_count}\")\n"
      ],
      "metadata": {
        "id": "FGlpU_w3paI9"
      },
      "execution_count": null,
      "outputs": []
    },
    {
      "cell_type": "markdown",
      "source": [
        "As can be seen, when we set the boundary between successful and less successful people at 70, the number of successful and less successful people becomes approximately equal and close to each other. Therefore, the graph moves almost close to each other, so we need to check to make sure that the differences are correct and that our data is not problematic."
      ],
      "metadata": {
        "id": "HX27ZCW5piq4"
      }
    },
    {
      "cell_type": "code",
      "source": [
        "# Compare feature averages between classes\n",
        "print(\"📊 Average feature values for each class:\")\n",
        "\n",
        "features = [\"study_hours_per_week\", \"sleep_hours_per_day\",\n",
        "            \"attendance_percentage\", \"assignments_completed\"]\n",
        "\n",
        "for feature in features:\n",
        "    mean_success = df[df[\"performance\"] == \"successful\"][feature].mean()\n",
        "    mean_less = df[df[\"performance\"] == \"less_successful\"][feature].mean()\n",
        "    diff = mean_success - mean_less\n",
        "\n",
        "    print(f\"\\n{feature}:\")\n",
        "    print(f\"   Successful: {mean_success:.2f}\")\n",
        "    print(f\"   Less Successful: {mean_less:.2f}\")\n",
        "    print(f\"   Difference: {diff:+.2f} ({'✅ higher for successful' if diff > 0 else '❌ higher for less successful'})\")\n"
      ],
      "metadata": {
        "id": "iY-YW-krpkdG"
      },
      "execution_count": null,
      "outputs": []
    },
    {
      "cell_type": "markdown",
      "source": [
        "##Scatter chart"
      ],
      "metadata": {
        "id": "SrvFENSRpvZJ"
      }
    },
    {
      "cell_type": "code",
      "source": [
        "Looking at this graph, we see that study hours and sleep hours are the best options for modeling and the data is separated very well. On the contrary, in the student participation graph, the data indentation is too much and does not seem like a good option at all."
      ],
      "metadata": {
        "id": "Ma7nmJq8pz_u"
      },
      "execution_count": null,
      "outputs": []
    },
    {
      "cell_type": "code",
      "source": [
        "import matplotlib.pyplot as plt\n",
        "\n",
        "# Scatter plots for 3 feature combinations\n",
        "fig, axes = plt.subplots(1, 3, figsize=(15, 5))\n",
        "\n",
        "# 1. Study Hours vs Final Grade\n",
        "success = df[df[\"performance\"] == \"successful\"]\n",
        "less = df[df[\"performance\"] == \"less_successful\"]\n",
        "\n",
        "axes[0].scatter(success[\"study_hours_per_week\"], success[\"final_grade\"],\n",
        "               color=\"green\", alpha=0.7, label=\"Successful\")\n",
        "axes[0].scatter(less[\"study_hours_per_week\"], less[\"final_grade\"],\n",
        "               color=\"red\", alpha=0.7, label=\"Less Successful\")\n",
        "axes[0].set_xlabel(\"Study Hours Per Week\")\n",
        "axes[0].set_ylabel(\"Final Grade\")\n",
        "axes[0].set_title(\"Study Hours vs Final Grade\")\n",
        "axes[0].legend()\n",
        "\n",
        "# 2. Study Hours vs Attendance\n",
        "axes[1].scatter(success[\"study_hours_per_week\"], success[\"attendance_percentage\"],\n",
        "               color=\"green\", alpha=0.7, label=\"Successful\")\n",
        "axes[1].scatter(less[\"study_hours_per_week\"], less[\"attendance_percentage\"],\n",
        "               color=\"red\", alpha=0.7, label=\"Less Successful\")\n",
        "axes[1].set_xlabel(\"Study Hours Per Week\")\n",
        "axes[1].set_ylabel(\"Attendance Percentage\")\n",
        "axes[1].set_title(\"Study Hours vs Attendance\")\n",
        "axes[1].legend()\n",
        "\n",
        "# 3. Sleep Hours vs Final Grade\n",
        "axes[2].scatter(success[\"sleep_hours_per_day\"], success[\"final_grade\"],\n",
        "               color=\"green\", alpha=0.7, label=\"Successful\")\n",
        "axes[2].scatter(less[\"sleep_hours_per_day\"], less[\"final_grade\"],\n",
        "               color=\"red\", alpha=0.7, label=\"Less Successful\")\n",
        "axes[2].set_xlabel(\"Sleep Hours Per Day\")\n",
        "axes[2].set_ylabel(\"Final Grade\")\n",
        "axes[2].set_title(\"Sleep Hours vs Final Grade\")\n",
        "axes[2].legend()\n",
        "\n",
        "plt.tight_layout()\n",
        "plt.show()\n"
      ],
      "metadata": {
        "id": "pZ6s9zCRp3BP"
      },
      "execution_count": null,
      "outputs": []
    },
    {
      "cell_type": "code",
      "source": [
        "##Modeling with simple rules"
      ],
      "metadata": {
        "id": "N4etioKMp7tM"
      },
      "execution_count": null,
      "outputs": []
    },
    {
      "cell_type": "code",
      "source": [
        "# Simple IF-ELSE model\n",
        "def predict_performance(study_hours, sleep_hours, attendance, assignments):\n",
        "    \"\"\"\n",
        "    Simple rule-based model to predict 'successful' or 'less_successful'\n",
        "    \"\"\"\n",
        "    score = 0\n",
        "\n",
        "    # Rule 1: Study hours\n",
        "    if study_hours > 40:\n",
        "        score += 3\n",
        "    elif study_hours > 30:\n",
        "        score += 2\n",
        "    elif study_hours > 20:\n",
        "        score += 1\n",
        "\n",
        "    # Rule 2: Sleep hours\n",
        "    if 6 <= sleep_hours <= 8:  # standard sleep\n",
        "        score += 2\n",
        "    elif sleep_hours > 8:      # oversleeping\n",
        "        score += 1\n",
        "    elif sleep_hours < 4:      # very low sleep\n",
        "        score -= 1\n",
        "\n",
        "    # Rule 3: Attendance\n",
        "    if attendance > 0.8:\n",
        "        score += 2\n",
        "    elif attendance > 0.6:\n",
        "        score += 1\n",
        "\n",
        "    # Rule 4: Assignments\n",
        "    if assignments > 0.7:\n",
        "        score += 2\n",
        "    elif assignments > 0.4:\n",
        "        score += 1\n",
        "\n",
        "    # Final prediction\n",
        "    if score >= 5:\n",
        "        return \"successful\"\n",
        "    else:\n",
        "        return \"less_successful\"\n",
        "\n",
        "# Test model on first student\n",
        "test_student = df.iloc[0]\n",
        "result = predict_performance(\n",
        "    test_student[\"study_hours_per_week\"],\n",
        "    test_student[\"sleep_hours_per_day\"],\n",
        "    test_student[\"attendance_percentage\"],\n",
        "    test_student[\"assignments_completed\"]\n",
        ")\n",
        "\n",
        "print(f\"Prediction for student 0: {result}\")\n",
        "print(f\"Actual: {test_student['performance']}\")\n"
      ],
      "metadata": {
        "id": "bPQPT6SZp9Xl"
      },
      "execution_count": null,
      "outputs": []
    },
    {
      "cell_type": "code",
      "source": [
        "# Evaluate model on all students\n",
        "correct_predictions = 0\n",
        "total_students = len(df)\n",
        "\n",
        "for i in range(total_students):\n",
        "    student = df.iloc[i]\n",
        "    prediction = predict_performance(\n",
        "        student[\"study_hours_per_week\"],\n",
        "        student[\"sleep_hours_per_day\"],\n",
        "        student[\"attendance_percentage\"],\n",
        "        student[\"assignments_completed\"]\n",
        "    )\n",
        "\n",
        "    if prediction == student[\"performance\"]:\n",
        "        correct_predictions += 1\n",
        "\n",
        "accuracy = (correct_predictions / total_students) * 100\n",
        "\n",
        "print(f\"Correct predictions: {correct_predictions}\")\n",
        "print(f\"Incorrect predictions: {total_students - correct_predictions}\")\n",
        "print(f\"Model Accuracy: {accuracy:.2f}%\")\n",
        "\n",
        "# Check distribution of classes\n",
        "success_count = len(df[df[\"performance\"] == \"successful\"])\n",
        "less_count = len(df[df[\"performance\"] == \"less_successful\"])\n",
        "\n",
        "print(f\"\\nNumber of successful students: {success_count}\")\n",
        "print(f\"Number of less successful students: {less_count}\")\n"
      ],
      "metadata": {
        "id": "CEDI2t7AqBxL"
      },
      "execution_count": null,
      "outputs": []
    },
    {
      "cell_type": "code",
      "source": [
        "print(\"✅ IF-ELSE model achieved 72.8% accuracy!\")\n",
        "print(\"   - Good for quick and simple predictions\")\n",
        "print(\"   - Interpretable and transparent\")\n",
        "print(\"   - But more advanced models are needed for higher accuracy\")\n"
      ],
      "metadata": {
        "id": "XXF0S34dqJ2A"
      },
      "execution_count": null,
      "outputs": []
    },
    {
      "cell_type": "markdown",
      "source": [
        "##Final modeling"
      ],
      "metadata": {
        "id": "RVimacZbqVrU"
      }
    },
    {
      "cell_type": "code",
      "source": [
        "import matplotlib.pyplot as plt\n",
        "import seaborn as sns\n",
        "from sklearn.model_selection import train_test_split\n",
        "from sklearn.linear_model import LinearRegression\n",
        "from sklearn.metrics import mean_absolute_error, r2_score\n",
        "\n",
        "# Linear Regression model for predicting final_grade\n",
        "X = df[[\"study_hours_per_week\", \"sleep_hours_per_day\",\n",
        "        \"attendance_percentage\", \"assignments_completed\"]]\n",
        "y = df[\"final_grade\"]\n",
        "\n",
        "# Train/test split\n",
        "X_train, X_test, y_train, y_test = train_test_split(X, y, test_size=0.2, random_state=42)\n",
        "\n",
        "# Train model\n",
        "model = LinearRegression()\n",
        "model.fit(X_train, y_train)\n",
        "\n",
        "# Predictions\n",
        "y_pred = model.predict(X_test)\n",
        "\n",
        "# Evaluation\n",
        "mae = mean_absolute_error(y_test, y_pred)\n",
        "r2 = r2_score(y_test, y_pred)\n",
        "\n",
        "print(\"=== LINEAR REGRESSION MODEL RESULTS ===\")\n",
        "print(f\"Mean Absolute Error (MAE): {mae:.2f}\")\n",
        "print(f\"R² Score: {r2:.2f}\")\n",
        "print(\"=\" * 40)\n",
        "\n",
        "# Compare predictions with actual\n",
        "plt.figure(figsize=(10, 6))\n",
        "plt.scatter(y_test, y_pred, alpha=0.7)\n",
        "plt.plot([y.min(), y.max()], [y.min(), y.max()], 'r--', lw=2)\n",
        "plt.xlabel('Actual Final Grade')\n",
        "plt.ylabel('Predicted Final Grade')\n",
        "plt.title('Predicted vs Actual - Linear Regression')\n",
        "plt.show()\n"
      ],
      "metadata": {
        "id": "B0RXrLYGqUXk"
      },
      "execution_count": null,
      "outputs": []
    }
  ]
}